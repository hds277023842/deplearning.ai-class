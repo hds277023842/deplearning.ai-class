{
 "cells": [
  {
   "cell_type": "code",
   "execution_count": 1,
   "metadata": {
    "ExecuteTime": {
     "end_time": "2020-10-30T07:43:01.841617Z",
     "start_time": "2020-10-30T07:42:58.119405Z"
    }
   },
   "outputs": [],
   "source": [
    "import numpy as np\n",
    "import h5py\n",
    "import matplotlib.pyplot as plt"
   ]
  },
  {
   "cell_type": "code",
   "execution_count": 2,
   "metadata": {
    "ExecuteTime": {
     "end_time": "2020-10-30T07:43:01.887150Z",
     "start_time": "2020-10-30T07:43:01.871638Z"
    }
   },
   "outputs": [],
   "source": [
    "def load_dataset():\n",
    "    train_dataset = h5py.File('datasets/train_catvnoncat.h5', \"r\")\n",
    "    train_set_x_orig = np.array(train_dataset[\"train_set_x\"][:]) # your train set features\n",
    "    train_set_y_orig = np.array(train_dataset[\"train_set_y\"][:]) # your train set labels\n",
    "\n",
    "    test_dataset = h5py.File('datasets/test_catvnoncat.h5', \"r\")\n",
    "    test_set_x_orig = np.array(test_dataset[\"test_set_x\"][:]) # your test set features\n",
    "    test_set_y_orig = np.array(test_dataset[\"test_set_y\"][:]) # your test set labels\n",
    "\n",
    "    classes = np.array(test_dataset[\"list_classes\"][:]) # the list of classes\n",
    "    \n",
    "    train_set_y_orig = train_set_y_orig.reshape((1, train_set_y_orig.shape[0]))\n",
    "    test_set_y_orig = test_set_y_orig.reshape((1, test_set_y_orig.shape[0]))\n",
    "    \n",
    "    return train_set_x_orig, train_set_y_orig, test_set_x_orig, test_set_y_orig, classes"
   ]
  },
  {
   "cell_type": "code",
   "execution_count": 3,
   "metadata": {
    "ExecuteTime": {
     "end_time": "2020-10-30T07:43:02.473565Z",
     "start_time": "2020-10-30T07:43:01.913666Z"
    }
   },
   "outputs": [
    {
     "name": "stdout",
     "output_type": "stream",
     "text": [
      "(209, 64, 64, 3) (1, 209)\n",
      "(50, 64, 64, 3) (1, 50)\n",
      "[b'non-cat' b'cat']\n"
     ]
    }
   ],
   "source": [
    "train_dataset = h5py.File('datasets/train_catvnoncat.h5','r')\n",
    "train_set_x_orig = np.array(train_dataset['train_set_x'][:])\n",
    "train_set_y_orig = np.array(train_dataset['train_set_y'][:])\n",
    "test_dataset = h5py.File('datasets/test_catvnoncat.h5','r')\n",
    "test_set_x_orig = np.array(test_dataset['test_set_x'][:])\n",
    "test_set_y_orig = np.array(test_dataset['test_set_y'][:])\n",
    "train_set_y_orig = train_set_y_orig.reshape((1,train_set_y_orig.shape[0]))\n",
    "test_set_y_orig = test_set_y_orig.reshape((1,test_set_y_orig.shape[0]))\n",
    "classes = np.array(test_dataset['list_classes'][:])\n",
    "print(train_set_x_orig.shape,train_set_y_orig.shape)\n",
    "print(test_set_x_orig.shape,test_set_y_orig.shape)\n",
    "print(classes)"
   ]
  },
  {
   "cell_type": "code",
   "execution_count": 4,
   "metadata": {
    "ExecuteTime": {
     "end_time": "2020-10-30T07:43:22.009095Z",
     "start_time": "2020-10-30T07:43:21.071313Z"
    }
   },
   "outputs": [
    {
     "data": {
      "text/plain": [
       "<matplotlib.image.AxesImage at 0x1e9dc9c8348>"
      ]
     },
     "execution_count": 4,
     "metadata": {},
     "output_type": "execute_result"
    },
    {
     "data": {
      "image/png": "[encoded data removed]",
      "text/plain": [
       "<Figure size 432x288 with 1 Axes>"
      ]
     },
     "metadata": {
      "needs_background": "light"
     },
     "output_type": "display_data"
    }
   ],
   "source": [
    "plt.imshow(train_set_x_orig[3])"
   ]
  },
  {
   "cell_type": "code",
   "execution_count": 5,
   "metadata": {
    "ExecuteTime": {
     "end_time": "2020-10-30T07:43:25.702723Z",
     "start_time": "2020-10-30T07:43:25.696218Z"
    }
   },
   "outputs": [
    {
     "data": {
      "text/plain": [
       "(209, 64, 64, 3)"
      ]
     },
     "execution_count": 5,
     "metadata": {},
     "output_type": "execute_result"
    }
   ],
   "source": [
    "train_set_x_orig.shape"
   ]
  },
  {
   "cell_type": "code",
   "execution_count": 6,
   "metadata": {
    "ExecuteTime": {
     "end_time": "2020-10-30T07:43:29.540153Z",
     "start_time": "2020-10-30T07:43:29.532149Z"
    }
   },
   "outputs": [
    {
     "name": "stdout",
     "output_type": "stream",
     "text": [
      "(209, 12288) (50, 12288)\n"
     ]
    }
   ],
   "source": [
    "# 由于使用logistic回归，需要将图片转换格式\n",
    "train_set_x_flatten = train_set_x_orig.reshape((train_set_x_orig.shape[0],-1))\n",
    "test_set_x_flatten = test_set_x_orig.reshape((test_set_x_orig.shape[0],-1))\n",
    "print(train_set_x_flatten.shape,test_set_x_flatten.shape)"
   ]
  },
  {
   "cell_type": "code",
   "execution_count": 7,
   "metadata": {
    "ExecuteTime": {
     "end_time": "2020-10-30T07:44:09.932126Z",
     "start_time": "2020-10-30T07:44:09.906588Z"
    }
   },
   "outputs": [],
   "source": [
    "# 标准化数据\n",
    "train_set_x = train_set_x_flatten / 255.\n",
    "test_set_x = test_set_x_flatten / 255."
   ]
  },
  {
   "cell_type": "code",
   "execution_count": 84,
   "metadata": {
    "ExecuteTime": {
     "end_time": "2020-10-30T09:00:25.801037Z",
     "start_time": "2020-10-30T09:00:25.794031Z"
    }
   },
   "outputs": [],
   "source": [
    "# \n",
    "def sigmoid(x):\n",
    "    return 1.0 / (1 + np.exp(-x))\n",
    "# 定义W，b\n",
    "dim = train_set_x.shape[1]\n",
    "W  =  np.zeros((1,dim))\n",
    "b = 0"
   ]
  },
  {
   "cell_type": "code",
   "execution_count": 85,
   "metadata": {
    "ExecuteTime": {
     "end_time": "2020-10-30T09:00:26.010687Z",
     "start_time": "2020-10-30T09:00:25.998675Z"
    }
   },
   "outputs": [],
   "source": [
    "# \n",
    "def propagate(W,b,X,y):\n",
    "    # 前向\n",
    "    m = X.shape[0] \n",
    "    Z = np.dot(W,X.T) + b\n",
    "    A = sigmoid(Z)\n",
    "    # print(A)\n",
    "    J = -1.0 / m * np.sum(y*np.log(A) + ((1-y)*np.log(1-A)))\n",
    "   \n",
    "    # 反向\n",
    "    dw = 1.0 / m * np.dot((A - y),X)\n",
    "    db = 1.0 / m * np.sum(A - y)\n",
    "    \n",
    "    return dw,db,J\n",
    "    "
   ]
  },
  {
   "cell_type": "code",
   "execution_count": 86,
   "metadata": {
    "ExecuteTime": {
     "end_time": "2020-10-30T09:00:26.167298Z",
     "start_time": "2020-10-30T09:00:26.157289Z"
    }
   },
   "outputs": [],
   "source": [
    "# \n",
    "def optimize(W,b,X,y,alpha,iterations = 100):\n",
    "    costs = []\n",
    "    for i in range(iterations):\n",
    "        dw,db,J = propagate(W,b,X,y)\n",
    "        W -= alpha * dw\n",
    "        b -= alpha * db\n",
    "        if i % 100 == 0:\n",
    "            costs.append(J)\n",
    "            print('当前迭代轮次为%d,损失为：%f'%(i,J))\n",
    "    return W,b,J"
   ]
  },
  {
   "cell_type": "code",
   "execution_count": 87,
   "metadata": {
    "ExecuteTime": {
     "end_time": "2020-10-30T09:00:26.353929Z",
     "start_time": "2020-10-30T09:00:26.345924Z"
    }
   },
   "outputs": [],
   "source": [
    "# \n",
    "def predict(W,b,X):\n",
    "    y_pred = sigmoid(np.dot(W,X.T) + b)\n",
    "    y_pred_flg = np.where(y_pred >= 0.5,1,0)\n",
    "    \n",
    "    return y_pred_flg\n",
    "    \n",
    "    "
   ]
  },
  {
   "cell_type": "code",
   "execution_count": 88,
   "metadata": {
    "ExecuteTime": {
     "end_time": "2020-10-30T09:00:35.490430Z",
     "start_time": "2020-10-30T09:00:26.529554Z"
    }
   },
   "outputs": [
    {
     "name": "stdout",
     "output_type": "stream",
     "text": [
      "当前迭代轮次为0,损失为：0.693147\n",
      "当前迭代轮次为100,损失为：0.584508\n",
      "当前迭代轮次为200,损失为：0.466949\n",
      "当前迭代轮次为300,损失为：0.376007\n",
      "当前迭代轮次为400,损失为：0.331463\n",
      "当前迭代轮次为500,损失为：0.303273\n",
      "当前迭代轮次为600,损失为：0.279880\n",
      "当前迭代轮次为700,损失为：0.260042\n",
      "当前迭代轮次为800,损失为：0.242941\n",
      "当前迭代轮次为900,损失为：0.228004\n",
      "当前迭代轮次为1000,损失为：0.214820\n",
      "当前迭代轮次为1100,损失为：0.203078\n",
      "当前迭代轮次为1200,损失为：0.192544\n",
      "当前迭代轮次为1300,损失为：0.183033\n",
      "当前迭代轮次为1400,损失为：0.174399\n",
      "当前迭代轮次为1500,损失为：0.166521\n",
      "当前迭代轮次为1600,损失为：0.159305\n",
      "当前迭代轮次为1700,损失为：0.152667\n",
      "当前迭代轮次为1800,损失为：0.146542\n",
      "当前迭代轮次为1900,损失为：0.140872\n"
     ]
    }
   ],
   "source": [
    "# 完整流程\n",
    "W,b,J = optimize(W,b,train_set_x,train_set_y_orig,alpha = 0.005,iterations=2000)\n",
    "y_pred = predict(W,b,train_set_x)"
   ]
  },
  {
   "cell_type": "code",
   "execution_count": 92,
   "metadata": {
    "ExecuteTime": {
     "end_time": "2020-10-30T09:02:03.730044Z",
     "start_time": "2020-10-30T09:02:03.722038Z"
    }
   },
   "outputs": [
    {
     "data": {
      "text/plain": [
       "0.9904306220095693"
      ]
     },
     "execution_count": 92,
     "metadata": {},
     "output_type": "execute_result"
    }
   ],
   "source": [
    "# 计算准确率\n",
    "np.sum(y_pred == train_set_y_orig) / train_set_y_orig.shape[1]"
   ]
  },
  {
   "cell_type": "code",
   "execution_count": 93,
   "metadata": {
    "ExecuteTime": {
     "end_time": "2020-10-30T09:03:17.910348Z",
     "start_time": "2020-10-30T09:03:17.828787Z"
    }
   },
   "outputs": [
    {
     "data": {
      "text/plain": [
       "0.7"
      ]
     },
     "execution_count": 93,
     "metadata": {},
     "output_type": "execute_result"
    }
   ],
   "source": [
    "# 测试集上\n",
    "y_pred_test = predict(W,b,test_set_x)\n",
    "np.sum(y_pred_test == test_set_y_orig) / test_set_y_orig.shape[1]"
   ]
  },
  {
   "cell_type": "code",
   "execution_count": null,
   "metadata": {},
   "outputs": [],
   "source": []
  }
 ],
 "metadata": {
  "kernelspec": {
   "display_name": "Python 3",
   "language": "python",
   "name": "python3"
  },
  "language_info": {
   "codemirror_mode": {
    "name": "ipython",
    "version": 3
   },
   "file_extension": ".py",
   "mimetype": "text/x-python",
   "name": "python",
   "nbconvert_exporter": "python",
   "pygments_lexer": "ipython3",
   "version": "3.7.6"
  },
  "varInspector": {
   "cols": {
    "lenName": 16,
    "lenType": 16,
    "lenVar": 40
   },
   "kernels_config": {
    "python": {
     "delete_cmd_postfix": "",
     "delete_cmd_prefix": "del ",
     "library": "var_list.py",
     "varRefreshCmd": "print(var_dic_list())"
    },
    "r": {
     "delete_cmd_postfix": ") ",
     "delete_cmd_prefix": "rm(",
     "library": "var_list.r",
     "varRefreshCmd": "cat(var_dic_list()) "
    }
   },
   "types_to_exclude": [
    "module",
    "function",
    "builtin_function_or_method",
    "instance",
    "_Feature"
   ],
   "window_display": true
  }
 },
 "nbformat": 4,
 "nbformat_minor": 2
}
